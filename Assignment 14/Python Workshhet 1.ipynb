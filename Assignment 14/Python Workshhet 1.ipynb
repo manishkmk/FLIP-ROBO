{
 "cells": [
  {
   "cell_type": "markdown",
   "metadata": {},
   "source": [
    "1. Which of the following operators is used to calculate remainder in a division?\n",
    "\n",
    "   Ans: (C) %\n",
    "\n",
    "2. In python 2//3 is equal to?\n",
    "\n",
    "   Ans. B) 0\n",
    "\n",
    "\n",
    "3. In python, 6<<2 is equal to?\n",
    "\n",
    "\n",
    "   Ans: C) 24\n",
    "\n",
    "4. In python, 6&2 will give which of the following as output?\n",
    "\n",
    "   Ans: A) 2\n",
    "\n",
    "5. In python, 6|2 will give which of the following as output?\n",
    "   Ans 6\n",
    "   \n",
    "6. What does the finally keyword denotes in python?\n",
    "\n",
    "   Ans:C) the finally block will be executed no matter if the try block raises an error or not.\n",
    "\n",
    "7. What does raise keyword is used for in python?\n",
    "\n",
    "   Ans:  A) It is used to raise an exception.\n",
    "\n",
    "8.  Which of the following is a common use case of yield keyword in python?\n",
    "\n",
    "    Ans:C) in defining a generator\n",
    "\n",
    "\n",
    "9. Which of the following are the valid variable names?\n",
    "\n",
    "   Ans:A) _abc    C) abc2\n",
    "\n",
    "10. Which of the following are the keywords in python?\n",
    "\n",
    "    ANS: A) yield B) raise"
   ]
  },
  {
   "cell_type": "code",
   "execution_count": 15,
   "metadata": {},
   "outputs": [
    {
     "name": "stdout",
     "output_type": "stream",
     "text": [
      "Enter a Number:5\n",
      "Factorial= 120\n"
     ]
    }
   ],
   "source": [
    "# 11. Write a python program to find the factorial of a number.\n",
    "i= int(input(\"Enter a Number:\"))\n",
    "fac=1\n",
    "while(i>0):\n",
    "    fac=fac*i\n",
    "    i=i-1\n",
    "print(\"Factorial=\",fac)"
   ]
  },
  {
   "cell_type": "code",
   "execution_count": 16,
   "metadata": {},
   "outputs": [
    {
     "name": "stdout",
     "output_type": "stream",
     "text": [
      "Enter a number: 7\n",
      "Prime Number\n"
     ]
    }
   ],
   "source": [
    "#12.Write a python program to find whether a number is prime or composite.\n",
    "n=int(input(\"Enter a number: \"))\n",
    "count = 0\n",
    "i=1\n",
    "while(i<=n):\n",
    "    if(n%i==0):\n",
    "        count=count+1\n",
    "    i = i+1\n",
    "if(count==2):\n",
    "    print(\"Prime Number\")\n",
    "    \n",
    "else:\n",
    "    print(\"Composite Number\")\n"
   ]
  },
  {
   "cell_type": "code",
   "execution_count": 17,
   "metadata": {},
   "outputs": [
    {
     "name": "stdout",
     "output_type": "stream",
     "text": [
      "Enter String:MADAM\n",
      "Palindrome String\n"
     ]
    }
   ],
   "source": [
    "#13 Write a python program to check whether a given string is palindrome or not.\n",
    "a= (input(\"Enter String:\"))\n",
    "b=a[-1::-1]\n",
    "if(a==b):\n",
    "    print(\"Palindrome String\")\n",
    "else:\n",
    "    print(\"Not Palindrome String\")"
   ]
  },
  {
   "cell_type": "code",
   "execution_count": 18,
   "metadata": {},
   "outputs": [
    {
     "name": "stdout",
     "output_type": "stream",
     "text": [
      "Hypotenuse = 5.0\n",
      "Adjacent = 4.0\n",
      "Opposite = 3.0\n",
      "You know the answer!\n"
     ]
    }
   ],
   "source": [
    "#14. Write a Python program to get the third side of right-angled triangle from two given sides.\n",
    "def pythagoras(opposite_side,adjacent_side,hypotenuse):\n",
    "        if opposite_side == str(\"x\"):\n",
    "            return (\"Opposite = \" + str(((hypotenuse**2) - (adjacent_side**2))**0.5))\n",
    "        elif adjacent_side == str(\"x\"):\n",
    "            return (\"Adjacent = \" + str(((hypotenuse**2) - (opposite_side**2))**0.5))\n",
    "        elif hypotenuse == str(\"x\"):\n",
    "            return (\"Hypotenuse = \" + str(((opposite_side**2) + (adjacent_side**2))**0.5))\n",
    "        else:\n",
    "            return \"You know the answer!\"\n",
    "    \n",
    "print(pythagoras(3,4,'x'))\n",
    "print(pythagoras(3,'x',5))\n",
    "print(pythagoras('x',4,5))\n",
    "print(pythagoras(3,4,5))"
   ]
  },
  {
   "cell_type": "code",
   "execution_count": 19,
   "metadata": {},
   "outputs": [
    {
     "name": "stdout",
     "output_type": "stream",
     "text": [
      "Enter a String:manish\n",
      "{'m': 1, 'a': 1, 'n': 1, 'i': 1, 's': 1, 'h': 1}\n"
     ]
    }
   ],
   "source": [
    "#15. Write a python program to print the frequency of each of the characters present in a given string.\n",
    "str=(input(\"Enter a String:\"))\n",
    "d1= dict()\n",
    "for c in str:\n",
    "    if c in d1:\n",
    "        d1[c]=d1[c]+1\n",
    "    else:\n",
    "        d1[c]=1\n",
    "print(d1)        "
   ]
  },
  {
   "cell_type": "code",
   "execution_count": null,
   "metadata": {},
   "outputs": [],
   "source": []
  },
  {
   "cell_type": "code",
   "execution_count": null,
   "metadata": {},
   "outputs": [],
   "source": []
  }
 ],
 "metadata": {
  "kernelspec": {
   "display_name": "Python 3",
   "language": "python",
   "name": "python3"
  },
  "language_info": {
   "codemirror_mode": {
    "name": "ipython",
    "version": 3
   },
   "file_extension": ".py",
   "mimetype": "text/x-python",
   "name": "python",
   "nbconvert_exporter": "python",
   "pygments_lexer": "ipython3",
   "version": "3.7.3"
  }
 },
 "nbformat": 4,
 "nbformat_minor": 2
}
