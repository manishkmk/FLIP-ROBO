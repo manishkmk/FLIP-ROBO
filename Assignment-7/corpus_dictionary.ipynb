{
 "cells": [
  {
   "cell_type": "code",
   "execution_count": 5,
   "metadata": {},
   "outputs": [
    {
     "name": "stdout",
     "output_type": "stream",
     "text": [
      "Requirement already satisfied: gensim in c:\\programdata\\anaconda3\\lib\\site-packages (3.8.3)\n",
      "Requirement already satisfied: Cython==0.29.14 in c:\\programdata\\anaconda3\\lib\\site-packages (from gensim) (0.29.14)\n",
      "Requirement already satisfied: six>=1.5.0 in c:\\programdata\\anaconda3\\lib\\site-packages (from gensim) (1.12.0)\n",
      "Requirement already satisfied: scipy>=0.18.1 in c:\\programdata\\anaconda3\\lib\\site-packages (from gensim) (1.2.1)\n",
      "Requirement already satisfied: smart-open>=1.8.1 in c:\\programdata\\anaconda3\\lib\\site-packages (from gensim) (2.1.0)\n",
      "Requirement already satisfied: numpy>=1.11.3 in c:\\programdata\\anaconda3\\lib\\site-packages (from gensim) (1.16.4)\n",
      "Requirement already satisfied: boto3 in c:\\programdata\\anaconda3\\lib\\site-packages (from smart-open>=1.8.1->gensim) (1.14.47)\n",
      "Requirement already satisfied: requests in c:\\programdata\\anaconda3\\lib\\site-packages (from smart-open>=1.8.1->gensim) (2.22.0)\n",
      "Requirement already satisfied: boto in c:\\programdata\\anaconda3\\lib\\site-packages (from smart-open>=1.8.1->gensim) (2.49.0)\n",
      "Requirement already satisfied: s3transfer<0.4.0,>=0.3.0 in c:\\programdata\\anaconda3\\lib\\site-packages (from boto3->smart-open>=1.8.1->gensim) (0.3.3)\n",
      "Requirement already satisfied: botocore<1.18.0,>=1.17.47 in c:\\programdata\\anaconda3\\lib\\site-packages (from boto3->smart-open>=1.8.1->gensim) (1.17.47)\n",
      "Requirement already satisfied: jmespath<1.0.0,>=0.7.1 in c:\\programdata\\anaconda3\\lib\\site-packages (from boto3->smart-open>=1.8.1->gensim) (0.10.0)\n",
      "Requirement already satisfied: certifi>=2017.4.17 in c:\\programdata\\anaconda3\\lib\\site-packages (from requests->smart-open>=1.8.1->gensim) (2020.6.20)\n",
      "Requirement already satisfied: chardet<3.1.0,>=3.0.2 in c:\\programdata\\anaconda3\\lib\\site-packages (from requests->smart-open>=1.8.1->gensim) (3.0.4)\n",
      "Requirement already satisfied: idna<2.9,>=2.5 in c:\\programdata\\anaconda3\\lib\\site-packages (from requests->smart-open>=1.8.1->gensim) (2.8)\n",
      "Requirement already satisfied: urllib3!=1.25.0,!=1.25.1,<1.26,>=1.21.1 in c:\\programdata\\anaconda3\\lib\\site-packages (from requests->smart-open>=1.8.1->gensim) (1.24.2)\n",
      "Requirement already satisfied: docutils<0.16,>=0.10 in c:\\programdata\\anaconda3\\lib\\site-packages (from botocore<1.18.0,>=1.17.47->boto3->smart-open>=1.8.1->gensim) (0.14)\n",
      "Requirement already satisfied: python-dateutil<3.0.0,>=2.1 in c:\\programdata\\anaconda3\\lib\\site-packages (from botocore<1.18.0,>=1.17.47->boto3->smart-open>=1.8.1->gensim) (2.8.0)\n"
     ]
    }
   ],
   "source": [
    "!pip install gensim \n"
   ]
  },
  {
   "cell_type": "code",
   "execution_count": 101,
   "metadata": {},
   "outputs": [],
   "source": [
    "import nltk\n",
    "\n",
    "from gensim.models import Word2Vec\n",
    "from nltk.corpus import stopwords\n",
    "import matplotlib.pyplot as plt\n",
    "%matplotlib inline\n",
    "import re"
   ]
  },
  {
   "cell_type": "code",
   "execution_count": 102,
   "metadata": {},
   "outputs": [],
   "source": [
    "paragraph = \"\"\"The COVID-19 pandemic marks an unprecedented time in modern history that will require \n",
    "the best of humanity to overcome. The new coronavirus has taken thousands of lives and spread to nearly \n",
    "every State of India. Your donation to this fund will support immediate and long-term relief and recovery \n",
    "in vulnerable communities during one of the most challenging times we have collectively faced.We at HLFPPT,\n",
    "a national not-for-profit NGO working in India since last 28 years (promoted by HLL Lifecare Limited, a Govt.\n",
    "of India Enterprises) is seeking Immediate Fund Support to extend our help to the marginalised and \n",
    "underprivileged/migrated labourer to live a healthy and safe life ahead. \n",
    "Not just this, we have more than 5000 Volunteer Health Workers associated with us, who are providing door-to-door \n",
    "medical help and free consultation in this COVID Crisis.'\n",
    "For both of them, immediate Donation is required to provide support through the volunteer at cluster/block \n",
    "level in India.a) Health Worker Protection Kit- Health workers are more vulnerable towards Corona, as they \n",
    "visit and provide essential medical help to the targeted population . Hence, it is critical to support them\n",
    "with required protective gears when they move in field. The Kit will includes- #Mask-5 pc/ or N-95, #PPE Kit-1 set,\n",
    "#Hand Sanitiser, Soap, #Dettol, Towel, Gloves etc\"\"\""
   ]
  },
  {
   "cell_type": "code",
   "execution_count": 103,
   "metadata": {},
   "outputs": [],
   "source": [
    "# Preprocessing the data\n",
    "text =  re.sub(r'\\[[0-9]*\\]',' ',paragraph )\n",
    "text = re.sub(r'\\s+',' ',text)\n",
    "text =  text.lower()\n",
    "\n",
    "\n",
    "text = re.sub(r'\\d',' ',text)\n",
    "text = re.sub(r'\\s+',' ',text)"
   ]
  },
  {
   "cell_type": "code",
   "execution_count": 104,
   "metadata": {},
   "outputs": [
    {
     "data": {
      "text/plain": [
       "\"the covid- pandemic marks an unprecedented time in modern history that will require the best of humanity to overcome. the new coronavirus has taken thousands of lives and spread to nearly every state of india. your donation to this fund will support immediate and long-term relief and recovery in vulnerable communities during one of the most challenging times we have collectively faced.we at hlfppt, a national not-for-profit ngo working in india since last years (promoted by hll lifecare limited, a govt. of india enterprises) is seeking immediate fund support to extend our help to the marginalised and underprivileged/migrated labourer to live a healthy and safe life ahead. not just this, we have more than volunteer health workers associated with us, who are providing door-to-door medical help and free consultation in this covid crisis.' for both of them, immediate donation is required to provide support through the volunteer at cluster/block level in india.a) health worker protection kit- health workers are more vulnerable towards corona, as they visit and provide essential medical help to the targeted population . hence, it is critical to support them with required protective gears when they move in field. the kit will includes- #mask- pc/ or n- , #ppe kit- set, #hand sanitiser, soap, #dettol, towel, gloves etc\""
      ]
     },
     "execution_count": 104,
     "metadata": {},
     "output_type": "execute_result"
    }
   ],
   "source": [
    "text"
   ]
  },
  {
   "cell_type": "code",
   "execution_count": 105,
   "metadata": {},
   "outputs": [
    {
     "data": {
      "text/plain": [
       "['the covid- pandemic marks an unprecedented time in modern history that will require the best of humanity to overcome.',\n",
       " 'the new coronavirus has taken thousands of lives and spread to nearly every state of india.',\n",
       " 'your donation to this fund will support immediate and long-term relief and recovery in vulnerable communities during one of the most challenging times we have collectively faced.we at hlfppt, a national not-for-profit ngo working in india since last years (promoted by hll lifecare limited, a govt.',\n",
       " 'of india enterprises) is seeking immediate fund support to extend our help to the marginalised and underprivileged/migrated labourer to live a healthy and safe life ahead.',\n",
       " \"not just this, we have more than volunteer health workers associated with us, who are providing door-to-door medical help and free consultation in this covid crisis.'\",\n",
       " 'for both of them, immediate donation is required to provide support through the volunteer at cluster/block level in india.a) health worker protection kit- health workers are more vulnerable towards corona, as they visit and provide essential medical help to the targeted population .',\n",
       " 'hence, it is critical to support them with required protective gears when they move in field.',\n",
       " 'the kit will includes- #mask- pc/ or n- , #ppe kit- set, #hand sanitiser, soap, #dettol, towel, gloves etc']"
      ]
     },
     "execution_count": 105,
     "metadata": {},
     "output_type": "execute_result"
    }
   ],
   "source": [
    "# Preparing the dataset\n",
    "sentences=  nltk.sent_tokenize(text)\n",
    "sentences"
   ]
  },
  {
   "cell_type": "code",
   "execution_count": 106,
   "metadata": {},
   "outputs": [
    {
     "data": {
      "text/plain": [
       "[['the',\n",
       "  'covid-',\n",
       "  'pandemic',\n",
       "  'marks',\n",
       "  'an',\n",
       "  'unprecedented',\n",
       "  'time',\n",
       "  'in',\n",
       "  'modern',\n",
       "  'history',\n",
       "  'that',\n",
       "  'will',\n",
       "  'require',\n",
       "  'the',\n",
       "  'best',\n",
       "  'of',\n",
       "  'humanity',\n",
       "  'to',\n",
       "  'overcome',\n",
       "  '.'],\n",
       " ['the',\n",
       "  'new',\n",
       "  'coronavirus',\n",
       "  'has',\n",
       "  'taken',\n",
       "  'thousands',\n",
       "  'of',\n",
       "  'lives',\n",
       "  'and',\n",
       "  'spread',\n",
       "  'to',\n",
       "  'nearly',\n",
       "  'every',\n",
       "  'state',\n",
       "  'of',\n",
       "  'india',\n",
       "  '.'],\n",
       " ['your',\n",
       "  'donation',\n",
       "  'to',\n",
       "  'this',\n",
       "  'fund',\n",
       "  'will',\n",
       "  'support',\n",
       "  'immediate',\n",
       "  'and',\n",
       "  'long-term',\n",
       "  'relief',\n",
       "  'and',\n",
       "  'recovery',\n",
       "  'in',\n",
       "  'vulnerable',\n",
       "  'communities',\n",
       "  'during',\n",
       "  'one',\n",
       "  'of',\n",
       "  'the',\n",
       "  'most',\n",
       "  'challenging',\n",
       "  'times',\n",
       "  'we',\n",
       "  'have',\n",
       "  'collectively',\n",
       "  'faced.we',\n",
       "  'at',\n",
       "  'hlfppt',\n",
       "  ',',\n",
       "  'a',\n",
       "  'national',\n",
       "  'not-for-profit',\n",
       "  'ngo',\n",
       "  'working',\n",
       "  'in',\n",
       "  'india',\n",
       "  'since',\n",
       "  'last',\n",
       "  'years',\n",
       "  '(',\n",
       "  'promoted',\n",
       "  'by',\n",
       "  'hll',\n",
       "  'lifecare',\n",
       "  'limited',\n",
       "  ',',\n",
       "  'a',\n",
       "  'govt',\n",
       "  '.'],\n",
       " ['of',\n",
       "  'india',\n",
       "  'enterprises',\n",
       "  ')',\n",
       "  'is',\n",
       "  'seeking',\n",
       "  'immediate',\n",
       "  'fund',\n",
       "  'support',\n",
       "  'to',\n",
       "  'extend',\n",
       "  'our',\n",
       "  'help',\n",
       "  'to',\n",
       "  'the',\n",
       "  'marginalised',\n",
       "  'and',\n",
       "  'underprivileged/migrated',\n",
       "  'labourer',\n",
       "  'to',\n",
       "  'live',\n",
       "  'a',\n",
       "  'healthy',\n",
       "  'and',\n",
       "  'safe',\n",
       "  'life',\n",
       "  'ahead',\n",
       "  '.'],\n",
       " ['not',\n",
       "  'just',\n",
       "  'this',\n",
       "  ',',\n",
       "  'we',\n",
       "  'have',\n",
       "  'more',\n",
       "  'than',\n",
       "  'volunteer',\n",
       "  'health',\n",
       "  'workers',\n",
       "  'associated',\n",
       "  'with',\n",
       "  'us',\n",
       "  ',',\n",
       "  'who',\n",
       "  'are',\n",
       "  'providing',\n",
       "  'door-to-door',\n",
       "  'medical',\n",
       "  'help',\n",
       "  'and',\n",
       "  'free',\n",
       "  'consultation',\n",
       "  'in',\n",
       "  'this',\n",
       "  'covid',\n",
       "  'crisis',\n",
       "  '.',\n",
       "  \"'\"],\n",
       " ['for',\n",
       "  'both',\n",
       "  'of',\n",
       "  'them',\n",
       "  ',',\n",
       "  'immediate',\n",
       "  'donation',\n",
       "  'is',\n",
       "  'required',\n",
       "  'to',\n",
       "  'provide',\n",
       "  'support',\n",
       "  'through',\n",
       "  'the',\n",
       "  'volunteer',\n",
       "  'at',\n",
       "  'cluster/block',\n",
       "  'level',\n",
       "  'in',\n",
       "  'india.a',\n",
       "  ')',\n",
       "  'health',\n",
       "  'worker',\n",
       "  'protection',\n",
       "  'kit-',\n",
       "  'health',\n",
       "  'workers',\n",
       "  'are',\n",
       "  'more',\n",
       "  'vulnerable',\n",
       "  'towards',\n",
       "  'corona',\n",
       "  ',',\n",
       "  'as',\n",
       "  'they',\n",
       "  'visit',\n",
       "  'and',\n",
       "  'provide',\n",
       "  'essential',\n",
       "  'medical',\n",
       "  'help',\n",
       "  'to',\n",
       "  'the',\n",
       "  'targeted',\n",
       "  'population',\n",
       "  '.'],\n",
       " ['hence',\n",
       "  ',',\n",
       "  'it',\n",
       "  'is',\n",
       "  'critical',\n",
       "  'to',\n",
       "  'support',\n",
       "  'them',\n",
       "  'with',\n",
       "  'required',\n",
       "  'protective',\n",
       "  'gears',\n",
       "  'when',\n",
       "  'they',\n",
       "  'move',\n",
       "  'in',\n",
       "  'field',\n",
       "  '.'],\n",
       " ['the',\n",
       "  'kit',\n",
       "  'will',\n",
       "  'includes-',\n",
       "  '#',\n",
       "  'mask-',\n",
       "  'pc/',\n",
       "  'or',\n",
       "  'n-',\n",
       "  ',',\n",
       "  '#',\n",
       "  'ppe',\n",
       "  'kit-',\n",
       "  'set',\n",
       "  ',',\n",
       "  '#',\n",
       "  'hand',\n",
       "  'sanitiser',\n",
       "  ',',\n",
       "  'soap',\n",
       "  ',',\n",
       "  '#',\n",
       "  'dettol',\n",
       "  ',',\n",
       "  'towel',\n",
       "  ',',\n",
       "  'gloves',\n",
       "  'etc']]"
      ]
     },
     "execution_count": 106,
     "metadata": {},
     "output_type": "execute_result"
    }
   ],
   "source": [
    "sent_word = [nltk.word_tokenize(sentence) for sentence in sentences]\n",
    "sent_word"
   ]
  },
  {
   "cell_type": "code",
   "execution_count": 107,
   "metadata": {},
   "outputs": [],
   "source": [
    "for i in range(len(sent_word)):\n",
    "    sent_word[i] = [word for word in sent_word[i] if word not in stopwords.words('english')]\n",
    "    "
   ]
  },
  {
   "cell_type": "code",
   "execution_count": 108,
   "metadata": {},
   "outputs": [
    {
     "data": {
      "text/plain": [
       "[['covid-',\n",
       "  'pandemic',\n",
       "  'marks',\n",
       "  'unprecedented',\n",
       "  'time',\n",
       "  'modern',\n",
       "  'history',\n",
       "  'require',\n",
       "  'best',\n",
       "  'humanity',\n",
       "  'overcome',\n",
       "  '.'],\n",
       " ['new',\n",
       "  'coronavirus',\n",
       "  'taken',\n",
       "  'thousands',\n",
       "  'lives',\n",
       "  'spread',\n",
       "  'nearly',\n",
       "  'every',\n",
       "  'state',\n",
       "  'india',\n",
       "  '.'],\n",
       " ['donation',\n",
       "  'fund',\n",
       "  'support',\n",
       "  'immediate',\n",
       "  'long-term',\n",
       "  'relief',\n",
       "  'recovery',\n",
       "  'vulnerable',\n",
       "  'communities',\n",
       "  'one',\n",
       "  'challenging',\n",
       "  'times',\n",
       "  'collectively',\n",
       "  'faced.we',\n",
       "  'hlfppt',\n",
       "  ',',\n",
       "  'national',\n",
       "  'not-for-profit',\n",
       "  'ngo',\n",
       "  'working',\n",
       "  'india',\n",
       "  'since',\n",
       "  'last',\n",
       "  'years',\n",
       "  '(',\n",
       "  'promoted',\n",
       "  'hll',\n",
       "  'lifecare',\n",
       "  'limited',\n",
       "  ',',\n",
       "  'govt',\n",
       "  '.'],\n",
       " ['india',\n",
       "  'enterprises',\n",
       "  ')',\n",
       "  'seeking',\n",
       "  'immediate',\n",
       "  'fund',\n",
       "  'support',\n",
       "  'extend',\n",
       "  'help',\n",
       "  'marginalised',\n",
       "  'underprivileged/migrated',\n",
       "  'labourer',\n",
       "  'live',\n",
       "  'healthy',\n",
       "  'safe',\n",
       "  'life',\n",
       "  'ahead',\n",
       "  '.'],\n",
       " [',',\n",
       "  'volunteer',\n",
       "  'health',\n",
       "  'workers',\n",
       "  'associated',\n",
       "  'us',\n",
       "  ',',\n",
       "  'providing',\n",
       "  'door-to-door',\n",
       "  'medical',\n",
       "  'help',\n",
       "  'free',\n",
       "  'consultation',\n",
       "  'covid',\n",
       "  'crisis',\n",
       "  '.',\n",
       "  \"'\"],\n",
       " [',',\n",
       "  'immediate',\n",
       "  'donation',\n",
       "  'required',\n",
       "  'provide',\n",
       "  'support',\n",
       "  'volunteer',\n",
       "  'cluster/block',\n",
       "  'level',\n",
       "  'india.a',\n",
       "  ')',\n",
       "  'health',\n",
       "  'worker',\n",
       "  'protection',\n",
       "  'kit-',\n",
       "  'health',\n",
       "  'workers',\n",
       "  'vulnerable',\n",
       "  'towards',\n",
       "  'corona',\n",
       "  ',',\n",
       "  'visit',\n",
       "  'provide',\n",
       "  'essential',\n",
       "  'medical',\n",
       "  'help',\n",
       "  'targeted',\n",
       "  'population',\n",
       "  '.'],\n",
       " ['hence',\n",
       "  ',',\n",
       "  'critical',\n",
       "  'support',\n",
       "  'required',\n",
       "  'protective',\n",
       "  'gears',\n",
       "  'move',\n",
       "  'field',\n",
       "  '.'],\n",
       " ['kit',\n",
       "  'includes-',\n",
       "  '#',\n",
       "  'mask-',\n",
       "  'pc/',\n",
       "  'n-',\n",
       "  ',',\n",
       "  '#',\n",
       "  'ppe',\n",
       "  'kit-',\n",
       "  'set',\n",
       "  ',',\n",
       "  '#',\n",
       "  'hand',\n",
       "  'sanitiser',\n",
       "  ',',\n",
       "  'soap',\n",
       "  ',',\n",
       "  '#',\n",
       "  'dettol',\n",
       "  ',',\n",
       "  'towel',\n",
       "  ',',\n",
       "  'gloves',\n",
       "  'etc']]"
      ]
     },
     "execution_count": 108,
     "metadata": {},
     "output_type": "execute_result"
    }
   ],
   "source": [
    "sent_word"
   ]
  },
  {
   "cell_type": "code",
   "execution_count": 109,
   "metadata": {},
   "outputs": [],
   "source": [
    "## Training the Word2Vec model\n",
    "model = Word2Vec(sent_word,min_count=1)\n",
    "\n",
    "\n",
    "words  = model.wv.vocab"
   ]
  },
  {
   "cell_type": "code",
   "execution_count": 110,
   "metadata": {},
   "outputs": [
    {
     "data": {
      "text/plain": [
       "array([-2.6406113e-03, -1.1455326e-03,  4.7817137e-03, -1.2692632e-04,\n",
       "       -2.5663113e-03,  2.3276666e-03, -2.1425469e-03, -3.1695401e-03,\n",
       "        1.4689973e-03, -1.4365291e-04, -1.7518072e-03, -2.2409572e-03,\n",
       "       -2.5817230e-03, -3.7145235e-03,  3.4291262e-03,  1.4557015e-03,\n",
       "       -3.3560249e-03, -1.1101505e-03,  8.5204985e-04, -4.2108637e-03,\n",
       "       -3.8558093e-03,  4.5950674e-03, -2.4142617e-03,  4.5324168e-03,\n",
       "        5.1959509e-05, -2.1607343e-03, -1.3926326e-03,  1.9907879e-03,\n",
       "        3.1076726e-03,  1.4927989e-03,  1.8225135e-03,  3.7608640e-03,\n",
       "       -3.9484221e-03, -2.1123986e-03,  1.3560494e-03,  3.8150325e-03,\n",
       "        4.0250639e-03, -1.9076368e-03,  2.2657940e-03, -4.7822213e-03,\n",
       "       -2.8968221e-03, -2.5216013e-03,  1.8153603e-03, -4.3341443e-03,\n",
       "        3.1039596e-04,  5.2365748e-04,  3.6051506e-03,  4.0331637e-03,\n",
       "        1.0698775e-03,  6.5371121e-04,  1.8731343e-03,  5.0487230e-05,\n",
       "       -1.0772551e-03,  4.4904323e-04, -3.7127659e-03, -1.5993385e-03,\n",
       "       -2.7146088e-03,  7.9465017e-06, -8.6114171e-04, -4.5149676e-03,\n",
       "       -1.0513322e-03, -3.0582775e-03, -9.3447539e-04, -1.0122027e-04,\n",
       "       -3.7661646e-03, -4.4934670e-03, -3.4816044e-03, -3.3137996e-03,\n",
       "        2.1235563e-03, -2.0425480e-03,  2.0504906e-03,  1.8555849e-03,\n",
       "       -3.9806711e-03,  1.7828423e-03,  3.7153354e-03, -8.3626021e-04,\n",
       "       -1.6220937e-03,  4.7617792e-03,  4.4902260e-03,  3.5478205e-03,\n",
       "       -4.6204976e-03,  3.5063815e-03, -4.7053387e-03,  9.4780169e-04,\n",
       "       -3.6678361e-03,  7.7244494e-04, -3.5753949e-03,  1.9142425e-03,\n",
       "        3.1059436e-03,  3.3976883e-03, -1.2423666e-03, -3.3638079e-03,\n",
       "        1.7583307e-03, -4.2534135e-03,  2.9982463e-03,  3.9511318e-03,\n",
       "        1.2222599e-03,  2.2922377e-03, -3.6313012e-03,  2.3528922e-03],\n",
       "      dtype=float32)"
      ]
     },
     "execution_count": 110,
     "metadata": {},
     "output_type": "execute_result"
    }
   ],
   "source": [
    "# Test the word vector\n",
    "vector = model.wv['coronavirus']\n",
    "vector"
   ]
  },
  {
   "cell_type": "code",
   "execution_count": 111,
   "metadata": {},
   "outputs": [
    {
     "data": {
      "text/plain": [
       "[('visit', 0.23251797258853912),\n",
       " ('national', 0.21530351042747498),\n",
       " ('best', 0.20597228407859802),\n",
       " ('ahead', 0.20062099397182465),\n",
       " ('india.a', 0.18556474149227142),\n",
       " ('spread', 0.14072072505950928)]"
      ]
     },
     "execution_count": 111,
     "metadata": {},
     "output_type": "execute_result"
    }
   ],
   "source": [
    "# Most similar words\n",
    "similar = model.wv.most_similar('life',topn=6)\n",
    "\n",
    "similar"
   ]
  },
  {
   "cell_type": "code",
   "execution_count": 112,
   "metadata": {},
   "outputs": [
    {
     "data": {
      "text/plain": [
       "[('long-term', 0.2781841456890106),\n",
       " ('protective', 0.25312507152557373),\n",
       " ('overcome', 0.215415358543396),\n",
       " ('critical', 0.2134919911623001),\n",
       " ('last', 0.15800555050373077),\n",
       " ('modern', 0.14839628338813782),\n",
       " ('enterprises', 0.13706494867801666),\n",
       " ('medical', 0.13353484869003296),\n",
       " ('since', 0.12898124754428864),\n",
       " ('working', 0.12179587781429291)]"
      ]
     },
     "execution_count": 112,
     "metadata": {},
     "output_type": "execute_result"
    }
   ],
   "source": [
    "smlt2 = model.wv.most_similar('workers')\n",
    "smlt2"
   ]
  },
  {
   "cell_type": "code",
   "execution_count": 113,
   "metadata": {},
   "outputs": [
    {
     "data": {
      "text/plain": [
       "[('pandemic', 0.23968544602394104),\n",
       " ('mask-', 0.23571643233299255),\n",
       " ('taken', 0.22044509649276733),\n",
       " ('gears', 0.2106841653585434),\n",
       " ('govt', 0.20728960633277893),\n",
       " ('coronavirus', 0.18392375111579895),\n",
       " ('challenging', 0.16178928315639496),\n",
       " ('vulnerable', 0.15815860033035278),\n",
       " ('time', 0.14800171554088593),\n",
       " ('towards', 0.14089226722717285)]"
      ]
     },
     "execution_count": 113,
     "metadata": {},
     "output_type": "execute_result"
    }
   ],
   "source": [
    "sml3= model.wv.most_similar('enterprises')\n",
    "sml3"
   ]
  },
  {
   "cell_type": "code",
   "execution_count": 114,
   "metadata": {},
   "outputs": [
    {
     "data": {
      "text/plain": [
       "[('extend', 0.2571864724159241),\n",
       " ('associated', 0.23383884131908417),\n",
       " ('enterprises', 0.22044509649276733),\n",
       " ('targeted', 0.21938200294971466),\n",
       " ('relief', 0.21600505709648132),\n",
       " ('.', 0.2076769471168518),\n",
       " ('towards', 0.18968911468982697),\n",
       " ('population', 0.18286150693893433)]"
      ]
     },
     "execution_count": 114,
     "metadata": {},
     "output_type": "execute_result"
    }
   ],
   "source": [
    "sml4 = model.wv.most_similar('taken',topn=8)\n",
    "sml4"
   ]
  },
  {
   "cell_type": "code",
   "execution_count": 115,
   "metadata": {},
   "outputs": [
    {
     "data": {
      "text/plain": [
       "[('state', 0.27828818559646606),\n",
       " ('providing', 0.25912103056907654),\n",
       " ('taken', 0.23383882641792297),\n",
       " ('support', 0.20498985052108765),\n",
       " ('gloves', 0.20332521200180054),\n",
       " ('gears', 0.20082536339759827),\n",
       " ('hand', 0.1781502664089203),\n",
       " ('national', 0.16870439052581787)]"
      ]
     },
     "execution_count": 115,
     "metadata": {},
     "output_type": "execute_result"
    }
   ],
   "source": [
    "sml5 =model.wv.most_similar('associated',topn=8)\n",
    "sml5"
   ]
  },
  {
   "cell_type": "code",
   "execution_count": 116,
   "metadata": {},
   "outputs": [
    {
     "data": {
      "text/plain": [
       "[('cluster/block', 0.2373887598514557),\n",
       " ('covid-', 0.23208381235599518),\n",
       " ('immediate', 0.2218603491783142),\n",
       " ('includes-', 0.2064029425382614),\n",
       " ('associated', 0.20498985052108765),\n",
       " ('n-', 0.17843307554721832),\n",
       " ('india.a', 0.17353655397891998),\n",
       " ('labourer', 0.16083179414272308)]"
      ]
     },
     "execution_count": 116,
     "metadata": {},
     "output_type": "execute_result"
    }
   ],
   "source": [
    "sml6 = model.wv.most_similar('support',topn=8)\n",
    "sml6"
   ]
  },
  {
   "cell_type": "code",
   "execution_count": 117,
   "metadata": {},
   "outputs": [
    {
     "data": {
      "text/plain": [
       "[('kit-', 0.2286200225353241),\n",
       " ('providing', 0.21018420159816742),\n",
       " ('spread', 0.2011377364397049),\n",
       " ('recovery', 0.19943195581436157),\n",
       " ('india', 0.17632704973220825),\n",
       " ('seeking', 0.17423485219478607),\n",
       " ('long-term', 0.17094998061656952),\n",
       " ('towards', 0.16674044728279114),\n",
       " ('consultation', 0.16279330849647522),\n",
       " ('support', 0.16083179414272308)]"
      ]
     },
     "execution_count": 117,
     "metadata": {},
     "output_type": "execute_result"
    }
   ],
   "source": [
    "sml7 = model.wv.most_similar('labourer')\n",
    "sml7"
   ]
  },
  {
   "cell_type": "code",
   "execution_count": 118,
   "metadata": {},
   "outputs": [
    {
     "data": {
      "text/plain": [
       "[('labourer', 0.2011377364397049),\n",
       " ('thousands', 0.19528397917747498),\n",
       " ('history', 0.1879408061504364),\n",
       " ('visit', 0.17602047324180603),\n",
       " ('live', 0.16372007131576538),\n",
       " (\"'\", 0.16250896453857422),\n",
       " ('recovery', 0.15763431787490845),\n",
       " ('field', 0.1512829065322876)]"
      ]
     },
     "execution_count": 118,
     "metadata": {},
     "output_type": "execute_result"
    }
   ],
   "source": [
    "sml8 = model.wv.most_similar('spread',topn=8)\n",
    "sml8"
   ]
  },
  {
   "cell_type": "code",
   "execution_count": 119,
   "metadata": {},
   "outputs": [
    {
     "data": {
      "text/plain": [
       "[('move', 0.21365684270858765),\n",
       " ('nearly', 0.2013266682624817),\n",
       " ('spread', 0.187940776348114),\n",
       " ('state', 0.13978365063667297),\n",
       " ('kit-', 0.1289225071668625),\n",
       " ('hlfppt', 0.12437114864587784),\n",
       " ('dettol', 0.12231142073869705),\n",
       " ('lifecare', 0.12230752408504486),\n",
       " ('seeking', 0.1216980591416359),\n",
       " ('marginalised', 0.11387784034013748)]"
      ]
     },
     "execution_count": 119,
     "metadata": {},
     "output_type": "execute_result"
    }
   ],
   "source": [
    "sml9 =  model.wv.most_similar('history')\n",
    "sml9"
   ]
  },
  {
   "cell_type": "code",
   "execution_count": 120,
   "metadata": {},
   "outputs": [
    {
     "data": {
      "text/plain": [
       "[('towel', 0.24434903264045715),\n",
       " ('hand', 0.2169027477502823),\n",
       " ('last', 0.21670284867286682),\n",
       " ('ahead', 0.20960214734077454),\n",
       " ('govt', 0.19215354323387146),\n",
       " ('pandemic', 0.172149658203125),\n",
       " ('recovery', 0.1668066829442978),\n",
       " ('required', 0.15125054121017456),\n",
       " ('targeted', 0.1464819759130478),\n",
       " ('overcome', 0.13454711437225342)]"
      ]
     },
     "execution_count": 120,
     "metadata": {},
     "output_type": "execute_result"
    }
   ],
   "source": [
    "sml10 = model.wv.most_similar('lifecare')\n",
    "sml10"
   ]
  },
  {
   "cell_type": "code",
   "execution_count": 121,
   "metadata": {},
   "outputs": [
    {
     "data": {
      "text/plain": [
       "[('lifecare', 0.20960213243961334),\n",
       " ('life', 0.20062099397182465),\n",
       " ('consultation', 0.17367826402187347),\n",
       " ('ppe', 0.16214004158973694),\n",
       " ('require', 0.1601552516222),\n",
       " ('communities', 0.12508514523506165),\n",
       " ('door-to-door', 0.12423118948936462),\n",
       " ('govt', 0.1211576908826828),\n",
       " ('us', 0.12047887593507767),\n",
       " ('kit', 0.1184445321559906)]"
      ]
     },
     "execution_count": 121,
     "metadata": {},
     "output_type": "execute_result"
    }
   ],
   "source": [
    "sml11 =  model.wv.most_similar('ahead')\n",
    "sml11"
   ]
  },
  {
   "cell_type": "code",
   "execution_count": 122,
   "metadata": {},
   "outputs": [
    {
     "data": {
      "text/plain": [
       "[('hence', 0.23340654373168945),\n",
       " ('level', 0.20380255579948425),\n",
       " ('not-for-profit', 0.18139120936393738),\n",
       " ('humanity', 0.18103137612342834),\n",
       " ('immediate', 0.1735956370830536),\n",
       " ('consultation', 0.16268403828144073),\n",
       " ('ppe', 0.152399480342865),\n",
       " ('(', 0.14866071939468384),\n",
       " ('thousands', 0.14801976084709167),\n",
       " ('every', 0.13645417988300323)]"
      ]
     },
     "execution_count": 122,
     "metadata": {},
     "output_type": "execute_result"
    }
   ],
   "source": [
    "sml12 = model.wv.most_similar('communities')\n",
    "sml12"
   ]
  },
  {
   "cell_type": "code",
   "execution_count": 123,
   "metadata": {},
   "outputs": [
    {
     "data": {
      "text/plain": [
       "[('providing', 0.22254639863967896),\n",
       " ('communities', 0.18103137612342834),\n",
       " ('essential', 0.1799117922782898),\n",
       " ('kit-', 0.15155330300331116),\n",
       " ('required', 0.15006095170974731),\n",
       " ('times', 0.1344294399023056),\n",
       " ('includes-', 0.12698669731616974),\n",
       " ('promoted', 0.12052780389785767),\n",
       " ('last', 0.12046539783477783),\n",
       " ('hence', 0.11069715768098831)]"
      ]
     },
     "execution_count": 123,
     "metadata": {},
     "output_type": "execute_result"
    }
   ],
   "source": [
    "sml13 = model.wv.most_similar('humanity')\n",
    "sml13"
   ]
  },
  {
   "cell_type": "code",
   "execution_count": 124,
   "metadata": {},
   "outputs": [
    {
     "data": {
      "text/plain": [
       "[('hence', 0.22371962666511536),\n",
       " ('ahead', 0.17367826402187347),\n",
       " ('modern', 0.17099516093730927),\n",
       " ('labourer', 0.1627933233976364),\n",
       " ('communities', 0.16268403828144073),\n",
       " ('collectively', 0.15457119047641754),\n",
       " ('towel', 0.14888180792331696),\n",
       " ('relief', 0.14417819678783417)]"
      ]
     },
     "execution_count": 124,
     "metadata": {},
     "output_type": "execute_result"
    }
   ],
   "source": [
    "sml14 = model.wv.most_similar('consultation',topn=8)\n",
    "sml14"
   ]
  },
  {
   "cell_type": "code",
   "execution_count": 125,
   "metadata": {},
   "outputs": [
    {
     "data": {
      "text/plain": [
       "[('taken', 0.21600502729415894),\n",
       " ('n-', 0.20259660482406616),\n",
       " ('ngo', 0.19160008430480957),\n",
       " ('towards', 0.19131231307983398)]"
      ]
     },
     "execution_count": 125,
     "metadata": {},
     "output_type": "execute_result"
    }
   ],
   "source": [
    "sm15 = model.wv.most_similar('relief',topn=4)\n",
    "sm15"
   ]
  },
  {
   "cell_type": "code",
   "execution_count": 126,
   "metadata": {},
   "outputs": [
    {
     "data": {
      "text/plain": [
       "0.089971825"
      ]
     },
     "execution_count": 126,
     "metadata": {},
     "output_type": "execute_result"
    }
   ],
   "source": [
    "# You can also check words similarity and compare above\n",
    "model.wv.similarity(w1='workers',w2='health')"
   ]
  },
  {
   "cell_type": "code",
   "execution_count": 127,
   "metadata": {},
   "outputs": [
    {
     "name": "stderr",
     "output_type": "stream",
     "text": [
      "C:\\ProgramData\\Anaconda3\\lib\\site-packages\\ipykernel_launcher.py:8: DeprecationWarning: Call to deprecated `__getitem__` (Method will be removed in 4.0.0, use self.wv.__getitem__() instead).\n",
      "  \n"
     ]
    },
    {
     "data": {
      "image/png": "[encoded data removed]",
      "text/plain": [
       "<Figure size 1080x576 with 1 Axes>"
      ]
     },
     "metadata": {
      "needs_background": "light"
     },
     "output_type": "display_data"
    }
   ],
   "source": [
    "from sklearn.manifold import  TSNE\n",
    "vocab = ['workers','health','towards','help','population','associated']\n",
    "def tsne_plot(model):\n",
    "    labels = []\n",
    "    wordvecs = []\n",
    "\n",
    "    for word in vocab:\n",
    "        wordvecs.append(model[word])\n",
    "        labels.append(word)\n",
    "    \n",
    "    tsne_model = TSNE(perplexity=3, n_components=3, init='pca', random_state=42)\n",
    "    coordinates = tsne_model.fit_transform(wordvecs)\n",
    "\n",
    "    x = []\n",
    "    y = []\n",
    "    for value in coordinates:\n",
    "        x.append(value[0])\n",
    "        y.append(value[1])\n",
    "        \n",
    "    plt.figure(figsize=(15,8)) \n",
    "    for i in range(len(x)):\n",
    "        plt.scatter(x[i],y[i])\n",
    "        plt.annotate(labels[i],\n",
    "                     xy=(x[i], y[i]),\n",
    "                     xytext=(2, 2),\n",
    "                     textcoords='offset points', ha='left')\n",
    "\n",
    "    plt.show()\n",
    "\n",
    "tsne_plot(model)"
   ]
  },
  {
   "cell_type": "code",
   "execution_count": null,
   "metadata": {},
   "outputs": [],
   "source": []
  },
  {
   "cell_type": "code",
   "execution_count": null,
   "metadata": {},
   "outputs": [],
   "source": []
  },
  {
   "cell_type": "code",
   "execution_count": null,
   "metadata": {},
   "outputs": [],
   "source": []
  },
  {
   "cell_type": "code",
   "execution_count": null,
   "metadata": {},
   "outputs": [],
   "source": []
  }
 ],
 "metadata": {
  "kernelspec": {
   "display_name": "Python 3",
   "language": "python",
   "name": "python3"
  },
  "language_info": {
   "codemirror_mode": {
    "name": "ipython",
    "version": 3
   },
   "file_extension": ".py",
   "mimetype": "text/x-python",
   "name": "python",
   "nbconvert_exporter": "python",
   "pygments_lexer": "ipython3",
   "version": "3.7.3"
  }
 },
 "nbformat": 4,
 "nbformat_minor": 2
}
