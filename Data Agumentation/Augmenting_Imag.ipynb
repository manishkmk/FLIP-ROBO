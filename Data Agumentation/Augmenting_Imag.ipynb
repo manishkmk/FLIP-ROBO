{
 "cells": [
  {
   "cell_type": "code",
   "execution_count": 1,
   "metadata": {},
   "outputs": [
    {
     "name": "stdout",
     "output_type": "stream",
     "text": [
      "4.3.0\n"
     ]
    }
   ],
   "source": [
    "import cv2\n",
    "import os, os.path\n",
    "\n",
    "print (cv2.__version__)\n",
    "\n"
   ]
  },
  {
   "cell_type": "markdown",
   "metadata": {},
   "source": [
    "## Augmenting_Shirt"
   ]
  },
  {
   "cell_type": "code",
   "execution_count": 2,
   "metadata": {},
   "outputs": [],
   "source": [
    "import glob \n",
    "import numpy as np"
   ]
  },
  {
   "cell_type": "markdown",
   "metadata": {},
   "source": [
    "## Resized"
   ]
  },
  {
   "cell_type": "code",
   "execution_count": 21,
   "metadata": {},
   "outputs": [],
   "source": [
    "inputFolder = 'train/'\n",
    "os.mkdir('Resizedl')\n",
    "i=0\n",
    "for img in glob.glob(inputFolder + \"/*.jpeg\"):\n",
    "    image = cv2.imread(img)\n",
    "    imgResized = cv2.resize(image, (150,150))\n",
    "    cv2.imwrite(\"Resizedl/image%o4i.jpeg\" %i, imgResized)\n",
    "    i +=1\n",
    "    cv2.imshow('image',imgResized)\n",
    "    cv2.waitKey(30)\n",
    "cv2.destroyAllWindows() "
   ]
  },
  {
   "cell_type": "markdown",
   "metadata": {},
   "source": [
    "## Rotation"
   ]
  },
  {
   "cell_type": "code",
   "execution_count": 22,
   "metadata": {},
   "outputs": [],
   "source": [
    "inputFolder = 'train/'\n",
    "os.mkdir('Rotation')\n",
    "i=0\n",
    "for img in glob.glob(inputFolder + \"/*.jpeg\"):\n",
    "    image=cv2.imread(img)\n",
    "    height, width = image.shape[:2]\n",
    "    rotation_matrix = cv2.getRotationMatrix2D((width/2, height/2), 30, .5)\n",
    "    rotated_image = cv2.warpAffine(image, rotation_matrix,(width, height))\n",
    "    cv2.imwrite(\"Rotation/image%o5i.jpeg\" %i, rotated_image)\n",
    "    i +=1\n",
    "    cv2.imshow('image',rotated_image)\n",
    "    cv2.waitKey(30)\n",
    "cv2.destroyAllWindows()"
   ]
  },
  {
   "cell_type": "markdown",
   "metadata": {},
   "source": [
    "## Sharping"
   ]
  },
  {
   "cell_type": "code",
   "execution_count": 23,
   "metadata": {},
   "outputs": [],
   "source": [
    "input='train/'\n",
    "os.mkdir('Sharping')\n",
    "i=0\n",
    "for img in glob.glob(input + \"/*.jpeg\"):\n",
    "    image = cv2.imread(img)\n",
    "    kernel_sharping = np.array([[-1,-1,-1],\n",
    "                                [-1,10,-1],  \n",
    "                                [-1,-1,-1]])\n",
    "    \n",
    "    sharpend = cv2.filter2D(image, -1,  kernel_sharping)\n",
    "    cv2.imwrite(\"Sharping/image%6i.jpeg\" %i, sharpend)\n",
    "    i +=1\n",
    "    cv2.imshow('image',sharpend)\n",
    "    cv2.waitKey(30)\n",
    "cv2.destroyAllWindows()"
   ]
  },
  {
   "cell_type": "markdown",
   "metadata": {},
   "source": [
    "## Blurring"
   ]
  },
  {
   "cell_type": "code",
   "execution_count": 24,
   "metadata": {},
   "outputs": [],
   "source": [
    "input='train/'\n",
    "os.mkdir('Blurring')\n",
    "i=0\n",
    "for img in glob.glob(input + \"/*.jpeg\"):\n",
    "    image = cv2.imread(img)\n",
    "    kernel_3x3 = np.ones((3,3),np.float32) /9\n",
    "    \n",
    "    #I'm use the cv2.filter2D to conovlve the kernel with an image\n",
    "    blurr = cv2.filter2D(image, -1,  kernel_3x3)\n",
    "    cv2.imwrite(\"Blurring/image%o7i.jpeg\" %i, blurr)\n",
    "    i +=1\n",
    "    cv2.imshow('image',blurr)\n",
    "    cv2.waitKey(30)\n",
    "cv2.destroyAllWindows()"
   ]
  },
  {
   "cell_type": "markdown",
   "metadata": {},
   "source": [
    "## Brightness"
   ]
  },
  {
   "cell_type": "code",
   "execution_count": 25,
   "metadata": {},
   "outputs": [],
   "source": [
    "input = 'train'\n",
    "os.mkdir('Brightness')\n",
    "i=0\n",
    "for img in glob.glob(input + \"/*.jpeg\"):\n",
    "    image= cv2.imread(img)\n",
    "    M =np.ones(image.shape,dtype = \"uint8\") * 75\n",
    "    added = cv2.add(image, M)\n",
    "    cv2.imwrite('Brightness/image%08i.jpeg' %i, added)\n",
    "    i+=1\n",
    "    cv2.imshow(\"image\",added)\n",
    "    cv2.waitKey(30)\n",
    "cv2.destroyAllWindows()    \n",
    "    "
   ]
  },
  {
   "cell_type": "code",
   "execution_count": null,
   "metadata": {},
   "outputs": [],
   "source": []
  },
  {
   "cell_type": "code",
   "execution_count": null,
   "metadata": {},
   "outputs": [],
   "source": []
  },
  {
   "cell_type": "markdown",
   "metadata": {},
   "source": [
    "## Rotation_Tshirt"
   ]
  },
  {
   "cell_type": "code",
   "execution_count": 26,
   "metadata": {},
   "outputs": [],
   "source": [
    "inputFolder = 'Tshirt/'\n",
    "os.mkdir('Rotation_Tshirt')\n",
    "i=0\n",
    "for img in glob.glob(inputFolder + \"/*.jpeg\"):\n",
    "    image=cv2.imread(img)\n",
    "    height, width = image.shape[:2]\n",
    "    rotation_matrix = cv2.getRotationMatrix2D((width/2, height/2), 45, .5)\n",
    "    rotated_image = cv2.warpAffine(image, rotation_matrix,(width, height))\n",
    "    cv2.imwrite(\"Rotation_Tshirt/image%o5i.jpeg\" %i, rotated_image)\n",
    "    i +=1\n",
    "    cv2.imshow('image',rotated_image)\n",
    "    cv2.waitKey(30)\n",
    "cv2.destroyAllWindows()"
   ]
  },
  {
   "cell_type": "markdown",
   "metadata": {},
   "source": [
    "## Sharping_Tshirt"
   ]
  },
  {
   "cell_type": "code",
   "execution_count": 27,
   "metadata": {},
   "outputs": [],
   "source": [
    "input='Tshirt/'\n",
    "os.mkdir('Sharping_Tshirt')\n",
    "i=0\n",
    "for img in glob.glob(input + \"/*.jpeg\"):\n",
    "    image = cv2.imread(img)\n",
    "    kernel_sharping = np.array([[-1,-1,-1],\n",
    "                                [-1,10,-1],  \n",
    "                                [-1,-1,-1]])\n",
    "    \n",
    "    sharpend = cv2.filter2D(image, -1,  kernel_sharping)\n",
    "    cv2.imwrite(\"Sharping_Tshirt/image%6i.jpeg\" %i, sharpend)\n",
    "    i +=1\n",
    "    cv2.imshow('image',sharpend)\n",
    "    cv2.waitKey(30)\n",
    "cv2.destroyAllWindows()"
   ]
  },
  {
   "cell_type": "markdown",
   "metadata": {},
   "source": [
    "## Blurring_Tshirt"
   ]
  },
  {
   "cell_type": "code",
   "execution_count": 28,
   "metadata": {},
   "outputs": [],
   "source": [
    "input='Tshirt/'\n",
    "os.mkdir('Blurring_Tshirt')\n",
    "i=0\n",
    "for img in glob.glob(input + \"/*.jpeg\"):\n",
    "    image = cv2.imread(img)\n",
    "    kernel_3x3 = np.ones((3,3),np.float32) /9\n",
    "    \n",
    "    #I'm use the cv2.filter2D to conovlve the kernel with an image\n",
    "    blurr = cv2.filter2D(image, -1,  kernel_3x3)\n",
    "    cv2.imwrite(\"Blurring_Tshirt/image%o7i.jpeg\" %i, blurr)\n",
    "    i +=1\n",
    "    cv2.imshow('image',blurr)\n",
    "    cv2.waitKey(30)\n",
    "cv2.destroyAllWindows()"
   ]
  },
  {
   "cell_type": "markdown",
   "metadata": {},
   "source": [
    "## Brightness_Tshirt"
   ]
  },
  {
   "cell_type": "code",
   "execution_count": 29,
   "metadata": {},
   "outputs": [],
   "source": [
    "input = 'Tshirt'\n",
    "os.mkdir('Brightness_Tshirt')\n",
    "i=0\n",
    "for img in glob.glob(input + \"/*.jpeg\"):\n",
    "    image= cv2.imread(img)\n",
    "    M =np.ones(image.shape,dtype = \"uint8\") * 75\n",
    "    added = cv2.add(image, M)\n",
    "    cv2.imwrite('Brightness_Tshirt/image%08i.jpeg' %i, added)\n",
    "    i+=1\n",
    "    cv2.imshow(\"image\",added)\n",
    "    cv2.waitKey(30)\n",
    "cv2.destroyAllWindows()    \n",
    "    "
   ]
  },
  {
   "cell_type": "code",
   "execution_count": 33,
   "metadata": {},
   "outputs": [],
   "source": [
    "input = 'Tshirt'\n",
    "os.mkdir('Darkness_Tshirt')\n",
    "i=0\n",
    "for img in glob.glob(input + \"/*.jpeg\"):\n",
    "    image= cv2.imread(img)\n",
    "    M =np.ones(image.shape,dtype = \"uint8\") * 75\n",
    "    subtracted = cv2.subtract(image, M)\n",
    "    cv2.imwrite('Darkness_Tshirt/image%09i.jpeg' %i,  subtracted)\n",
    "    i+=1\n",
    "    cv2.imshow(\"image\",subtracted)\n",
    "    cv2.waitKey(30)\n",
    "cv2.destroyAllWindows() "
   ]
  },
  {
   "cell_type": "code",
   "execution_count": null,
   "metadata": {},
   "outputs": [],
   "source": []
  }
 ],
 "metadata": {
  "kernelspec": {
   "display_name": "Python 3",
   "language": "python",
   "name": "python3"
  },
  "language_info": {
   "codemirror_mode": {
    "name": "ipython",
    "version": 3
   },
   "file_extension": ".py",
   "mimetype": "text/x-python",
   "name": "python",
   "nbconvert_exporter": "python",
   "pygments_lexer": "ipython3",
   "version": "3.7.6"
  }
 },
 "nbformat": 4,
 "nbformat_minor": 4
}
