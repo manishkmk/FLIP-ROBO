{
 "cells": [
  {
   "cell_type": "markdown",
   "metadata": {},
   "source": [
    "1. Which of the following is not a core datatype in python?\n",
    "\n",
    "   (B) struct\n",
    "\n",
    "2.  Which of the following is an invalid variable name in python?\n",
    "\n",
    "\n",
    "    (C) 1_no\n",
    "\n",
    "3.   Which one of the following is a keyword in python?\n",
    "\n",
    "     A) in\n",
    "\n",
    "4.   In which of the following manner are the operators of the same precedence executed in python?\n",
    "\n",
    "     (A) Left to Right\n",
    "\n",
    " 5.  Arrange the following in decreasing order of the precedence when they appear in an expression in python?\n",
    "\n",
    "     C) iv – iii – ii – i\n",
    "\n",
    "6.   (28//6)**3/3%3 = ?.\n",
    " \n",
    "     C) 0.3333…\n",
    "\n",
    "7.   Which of the following is not equal to x16 ?\n",
    "\n",
    "     C) x^16\n",
    "\n",
    "\n",
    "8.   a = input(“Enter an integer”). What will be the data type of a?\n",
    "\n",
    "     B) str\n",
    "   \n",
    "9.\t(A) Division and multiplication have same precedence in python.                                                           \n",
    "    (B) Python’s operators’ precedence is based on PEDMAS.                                                                    \n",
    "    (D) In case of operators’ having same precedence, the one on the left side is executed first.                            \n",
    "10.\t(A) abc = 1,000,000                                                                                                        \n",
    "    (C) a,b,c = 1000, 2000, 3000                                                                                              \n",
    "    (D) a_b_c = 1,000,000    "
   ]
  },
  {
   "cell_type": "markdown",
   "metadata": {},
   "source": [
    "11. Differentiate between a list, tuple, set and dictionary.\n",
    " Ans A list,Tuples and dictionary in python are essentially different data\n",
    "structures.List are the most comman data types that boost significant\n",
    "flexibility. List can be used to store a sequence of objects that are mutable\n",
    "(so they can be modified after they are created)\n",
    "\n",
    "However, they have to stored in a particular order that can be indexed into a list\n",
    "or iterated over it\n",
    "\n",
    "\n",
    "Dictionary: In python you cant use a list as  \"Key\" for the dictionary(technically\n",
    " you can hash the list first vis your coustom hash function and use that as a key).\n",
    "A python dictionary is a fundamentally an unordered collection of key-value pair\n",
    "\n",
    "It is perfect tool to work witj enormous amount of data since dictionaries are\n",
    "optimized for retrieving data (but you have to know the key value pair)\n",
    "\n",
    "It can also be described as the implementation of hashtable and as a key-value store.\n",
    "In this scenario you can quickly look up anything by its key\n",
    "\n",
    "Tuples: A  tuples a another data type that is similar to the list.A tuple \n",
    "consist of a number of values separated by comma. Unlike a lists, Tuples enclosed \n",
    "within parentheses.\n"
   ]
  },
  {
   "cell_type": "code",
   "execution_count": 11,
   "metadata": {},
   "outputs": [
    {
     "name": "stdout",
     "output_type": "stream",
     "text": [
      "I Love Python\n"
     ]
    }
   ],
   "source": [
    "##Are strings mutable in python? Suppose you have a string “I+Love+Python”, \n",
    "##write a small code to replace ‘+’ with space in python.\n",
    "\n",
    "##YES String is Mutable\n",
    "\n",
    "str1 = \"I+Love+Python\"\n",
    "str2  =  str1.replace(\"+\",' ')\n",
    "print(str2)"
   ]
  },
  {
   "cell_type": "markdown",
   "metadata": {},
   "source": [
    "#### What does the function ord() do in python?\n",
    "The ord() function in Python accepts a string of length 1 as an argument and returns the unicode code point representation \n",
    "of the passed argument.\n",
    "For example ord('B') returns 66 which is a unicode code point value of character 'B'."
   ]
  },
  {
   "cell_type": "code",
   "execution_count": 4,
   "metadata": {},
   "outputs": [],
   "source": [
    "import math"
   ]
  },
  {
   "cell_type": "code",
   "execution_count": null,
   "metadata": {},
   "outputs": [],
   "source": []
  },
  {
   "cell_type": "code",
   "execution_count": 6,
   "metadata": {},
   "outputs": [
    {
     "name": "stdout",
     "output_type": "stream",
     "text": [
      "Enter a value of a:2\n",
      "Enter a value of b:9\n",
      "Enter a value of a:7\n",
      "root are real\n"
     ]
    }
   ],
   "source": [
    "##14 WAP to solve a quadratic equation of the form 𝑎𝑥2+𝑏𝑥+𝑐=0\n",
    "import math\n",
    "a  = int(input(\"Enter a value of a:\"))\n",
    "b = int(input(\"Enter a value of b:\"))\n",
    "c = int(input(\"Enter a value of a:\")) \n",
    "d= b*b- 4*a*c\n",
    "if b>0:\n",
    "    root1 = (-b+math.sqrt(d)/(2*a))\n",
    "    root2 = (-b- math.sqrt(d)/(2*a))\n",
    "    print(\"root are real\")\n",
    "elif d== 0:\n",
    "    root = -b/(2*a)\n",
    "    print(\"root are real and equal\")\n",
    "else:\n",
    "    print(\"root are complex and imaginary\")"
   ]
  },
  {
   "cell_type": "code",
   "execution_count": 3,
   "metadata": {},
   "outputs": [
    {
     "name": "stdout",
     "output_type": "stream",
     "text": [
      "Enter the number of n : 5\n",
      "Sum of first 5 natural numbers is = 15\n"
     ]
    }
   ],
   "source": [
    "## 15 sum of first ‘n’ natural numbers without using any loop\n",
    "n = int(input(\"Enter the number of n : \"))\n",
    "if n < 0: \n",
    "    print(\"Invalid Input\")\n",
    "elif n == 0: \n",
    "    print(\"Sum of first {} natural numbers is = 0\".format(n))\n",
    "else: \n",
    "    print(\"Sum of first {} natural numbers is = {}\".format(n, n*(n+1)//2))"
   ]
  },
  {
   "cell_type": "code",
   "execution_count": null,
   "metadata": {},
   "outputs": [],
   "source": []
  },
  {
   "cell_type": "code",
   "execution_count": null,
   "metadata": {},
   "outputs": [],
   "source": []
  },
  {
   "cell_type": "code",
   "execution_count": null,
   "metadata": {},
   "outputs": [],
   "source": []
  }
 ],
 "metadata": {
  "kernelspec": {
   "display_name": "Python 3",
   "language": "python",
   "name": "python3"
  },
  "language_info": {
   "codemirror_mode": {
    "name": "ipython",
    "version": 3
   },
   "file_extension": ".py",
   "mimetype": "text/x-python",
   "name": "python",
   "nbconvert_exporter": "python",
   "pygments_lexer": "ipython3",
   "version": "3.7.3"
  }
 },
 "nbformat": 4,
 "nbformat_minor": 2
}
