{
 "cells": [
  {
   "cell_type": "markdown",
   "metadata": {},
   "source": [
    "1. Which among the following options can be used to create a DataFrame in Pandas?\n",
    "     \n",
    "     A) An ndarray B) a python dictionary\n",
    "     C) A scalar value D) All of the\n",
    "\n",
    "     Sol    D) All of the"
   ]
  },
  {
   "cell_type": "markdown",
   "metadata": {},
   "source": [
    "2. A series is a one-dimensional array which is labelled and can hold any data type.\n",
    "  \n",
    "  A) True B) False\n",
    "  \n",
    "  True"
   ]
  },
  {
   "cell_type": "markdown",
   "metadata": {},
   "source": [
    "3. Which of the following operation works with the same syntax as the analogous dictionary operations?\n",
    "\n",
    "A) Getting columns B) setting columns\n",
    "C) deleting columns D) All of the above\n",
    "\n",
    "All of the above(Explanation: You can treat a DataFrame semantically like a dict of like-indexed Series objects.)"
   ]
  },
  {
   "cell_type": "markdown",
   "metadata": {},
   "source": [
    "4. pandas.NA = = pandas.NA, will give which of the following result?\n",
    "\n",
    "A) <NA> B) True\n",
    "\n",
    "C) False D) Error\n",
    "\n",
    "ANS: D) Error"
   ]
  },
  {
   "cell_type": "markdown",
   "metadata": {},
   "source": [
    "5. A panel is a ______ container of data in pandas?\n",
    "\n",
    "A) 1 dimensional B) 2 dimensional\n",
    "\n",
    "\n",
    "C) 3 dimensional D) infinite dimensions\n",
    "\n",
    "ANS: C) 3 dimensional"
   ]
  },
  {
   "cell_type": "markdown",
   "metadata": {},
   "source": [
    "6. What will be the output of the following lines of code?\n",
    "import pandas as pd\n",
    "import numpy as np\n",
    "\n",
    "s = pd.Series(np.random.randn(4))\n",
    "\n",
    "print(s.ndim)\n",
    "\n",
    "A) Error B) 3\n",
    "\n",
    "C) 2 D) 1\n",
    "\n",
    "\n",
    "ANS: 1"
   ]
  },
  {
   "cell_type": "markdown",
   "metadata": {},
   "source": [
    "7. Which of the following indexing capabilities is used as a concise means of selecting data from a pandas object??\n",
    "\n",
    "   A) in B) iy\n",
    "   C) ix D) ipy\n",
    "\n",
    "   ANS:  C) ix  ( xplanation: ix and reindex are 100% equivalent.)"
   ]
  },
  {
   "cell_type": "markdown",
   "metadata": {},
   "source": [
    "8. All pandas data structures are ___ mutable but not always _______mutable.\n",
    "   \n",
    "    A) size, value B) value, size\n",
    "    C) semantic, size D) None of these\n",
    "    \n",
    "    ANS: B) value, size"
   ]
  },
  {
   "cell_type": "markdown",
   "metadata": {},
   "source": [
    "10. Which of the following file formats are allowed for input output in pandas?\n",
    "   \n",
    "    A) JSON B) HTML\n",
    "    C) CSV D) TXT\n",
    "    \n",
    "    ANS:C) CSV"
   ]
  },
  {
   "cell_type": "code",
   "execution_count": 2,
   "metadata": {},
   "outputs": [
    {
     "name": "stdout",
     "output_type": "stream",
     "text": [
      "           name  score  attempts qualify\n",
      "I     Anastasia   12.5         1     yes\n",
      "II         Dima    9.0         3      no\n",
      "III   Katherine   16.5         2     yes\n",
      "IV        James    NaN         3      no\n",
      "V         Emily    9.0         2      no\n",
      "VI      Michael   20.0         3     yes\n",
      "VII     Matthew   14.5         1     yes\n",
      "VIII      Laura    NaN         1      no\n",
      "IX        Kevin    8.0         2      no\n",
      "X         Jonas   19.0         1     yes\n"
     ]
    }
   ],
   "source": [
    "##11. Write a Pandas program to create and display a DataFrame from the following dictionary data and labels:\n",
    "import pandas as pd\n",
    "import numpy as np\n",
    "\n",
    "exam_data  = {'name': ['Anastasia', 'Dima', 'Katherine', 'James', 'Emily', 'Michael', 'Matthew', 'Laura', 'Kevin', 'Jonas'],\n",
    "        'score': [12.5, 9, 16.5, np.nan, 9, 20, 14.5, np.nan, 8, 19],\n",
    "        'attempts': [1, 3, 2, 3, 2, 3, 1, 1, 2, 1],\n",
    "        'qualify': ['yes', 'no', 'yes', 'no', 'no', 'yes', 'yes', 'no', 'no', 'yes']}\n",
    "labels = ['I', 'II', 'III', 'IV', 'V', 'VI', 'VII', 'VIII', 'IX', 'X']\n",
    "\n",
    "df = pd.DataFrame(exam_data , index=labels)\n",
    "print(df)\n"
   ]
  },
  {
   "cell_type": "code",
   "execution_count": 5,
   "metadata": {},
   "outputs": [
    {
     "name": "stdout",
     "output_type": "stream",
     "text": [
      "          name  score  attempts qualify\n",
      "I    Anastasia   12.5         1     yes\n",
      "II        Dima    9.0         3      no\n",
      "III  Katherine   16.5         2     yes\n",
      "IV       James    NaN         3      no\n",
      "V        Emily    9.0         2      no\n"
     ]
    }
   ],
   "source": [
    "##12. Write a Pandas program to get the first 5 rows of the DataFrame created in Q11.\n",
    "\n",
    "print(df.iloc[:5])"
   ]
  },
  {
   "cell_type": "code",
   "execution_count": 11,
   "metadata": {},
   "outputs": [
    {
     "name": "stdout",
     "output_type": "stream",
     "text": [
      "           name  score\n",
      "I     Anastasia   12.5\n",
      "II         Dima    9.0\n",
      "III   Katherine   16.5\n",
      "IV        James    NaN\n",
      "V         Emily    9.0\n",
      "VI      Michael   20.0\n",
      "VII     Matthew   14.5\n",
      "VIII      Laura    NaN\n",
      "IX        Kevin    8.0\n",
      "X         Jonas   19.0\n"
     ]
    }
   ],
   "source": [
    "##13. Write a Pandas program to select the 'name' and 'score' columns of the DataFrame created in Q11.\n",
    "print(df[[\"name\",\"score\"]])"
   ]
  },
  {
   "cell_type": "code",
   "execution_count": 16,
   "metadata": {},
   "outputs": [
    {
     "name": "stdout",
     "output_type": "stream",
     "text": [
      "     score     name\n",
      "IV     NaN    James\n",
      "VI    20.0  Michael\n",
      "VII   14.5  Matthew\n",
      "IX     8.0    Kevin\n"
     ]
    }
   ],
   "source": [
    "##14. Write a Pandas program to select 'name' and 'score' columns in row indexes 3, 5, 6, 8 from the DataFrame created in Q11.\n",
    "print(df.iloc[[3, 5, 6, 8], [1, 0]])"
   ]
  },
  {
   "cell_type": "code",
   "execution_count": 12,
   "metadata": {
    "scrolled": true
   },
   "outputs": [
    {
     "name": "stdout",
     "output_type": "stream",
     "text": [
      "          name  score  attempts qualify\n",
      "III  Katherine   16.5         2     yes\n",
      "VI     Michael   20.0         3     yes\n",
      "X        Jonas   19.0         1     yes\n"
     ]
    }
   ],
   "source": [
    "##15. Write a Pandas program to select the rows where the score is between 15 and 20 (inclusive) from the DataFrame created in Q11.\n",
    "print(df[df['score'].between(15, 20)])"
   ]
  },
  {
   "cell_type": "code",
   "execution_count": null,
   "metadata": {},
   "outputs": [],
   "source": []
  },
  {
   "cell_type": "code",
   "execution_count": null,
   "metadata": {},
   "outputs": [],
   "source": []
  },
  {
   "cell_type": "code",
   "execution_count": null,
   "metadata": {},
   "outputs": [],
   "source": []
  },
  {
   "cell_type": "code",
   "execution_count": null,
   "metadata": {},
   "outputs": [],
   "source": []
  }
 ],
 "metadata": {
  "kernelspec": {
   "display_name": "Python 3",
   "language": "python",
   "name": "python3"
  },
  "language_info": {
   "codemirror_mode": {
    "name": "ipython",
    "version": 3
   },
   "file_extension": ".py",
   "mimetype": "text/x-python",
   "name": "python",
   "nbconvert_exporter": "python",
   "pygments_lexer": "ipython3",
   "version": "3.7.3"
  }
 },
 "nbformat": 4,
 "nbformat_minor": 2
}
